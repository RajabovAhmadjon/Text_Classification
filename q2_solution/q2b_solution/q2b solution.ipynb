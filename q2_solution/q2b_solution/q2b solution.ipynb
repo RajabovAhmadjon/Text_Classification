{
 "cells": [
  {
   "cell_type": "markdown",
   "metadata": {},
   "source": [
    "# Question 2b: Same Question Detection"
   ]
  },
  {
   "cell_type": "code",
   "execution_count": 1,
   "metadata": {},
   "outputs": [
    {
     "name": "stderr",
     "output_type": "stream",
     "text": [
      "C:\\Users\\ahmad\\anaconda3\\lib\\site-packages\\sklearn\\utils\\deprecation.py:143: FutureWarning: The sklearn.feature_extraction.stop_words module is  deprecated in version 0.22 and will be removed in version 0.24. The corresponding classes / functions should instead be imported from sklearn.feature_extraction.text. Anything that cannot be imported from sklearn.feature_extraction.text is now part of the private API.\n",
      "  warnings.warn(message, FutureWarning)\n"
     ]
    }
   ],
   "source": [
    "import numpy as np\n",
    "import pandas as pd\n",
    "import matplotlib.pyplot as plt\n",
    "import string\n",
    "from collections import defaultdict\n",
    "import pickle\n",
    "\n",
    "#sklearn libraries\n",
    "import sklearn\n",
    "from sklearn.linear_model import LogisticRegression\n",
    "\n",
    "from sklearn.preprocessing import StandardScaler\n",
    "from sklearn.ensemble import RandomForestClassifier\n",
    "\n",
    "from sklearn.feature_extraction.text import CountVectorizer\n",
    "from sklearn.feature_extraction.text import TfidfVectorizer\n",
    "from sklearn.feature_extraction.text import TfidfTransformer\n",
    "from sklearn.feature_extraction import stop_words as sk_sw\n",
    "\n",
    "from sklearn.metrics import fbeta_score\n",
    "from sklearn.metrics import make_scorer\n",
    "from sklearn.metrics import accuracy_score\n",
    "from sklearn.metrics import classification_report\n",
    "from sklearn.metrics.pairwise import cosine_similarity\n",
    "\n",
    "\n",
    "from sklearn.model_selection import train_test_split\n",
    "from sklearn.model_selection import KFold\n",
    "from sklearn.model_selection import cross_validate"
   ]
  },
  {
   "cell_type": "code",
   "execution_count": 2,
   "metadata": {},
   "outputs": [],
   "source": [
    "train_dataset = pd.read_csv(\"train.csv\")\n",
    "test_dataset = pd.read_csv(\"test_without_labels.csv\")"
   ]
  },
  {
   "cell_type": "code",
   "execution_count": 3,
   "metadata": {},
   "outputs": [],
   "source": [
    "train_dataset.dropna(inplace = True)"
   ]
  },
  {
   "cell_type": "code",
   "execution_count": 4,
   "metadata": {},
   "outputs": [],
   "source": [
    "#Function to calculate normalized word share between two questions\n",
    "#Equation: {(Common Length of two questions (Shortest Length among the two questions)) / \n",
    "#                    ((Length of Question 1) + (Length of Question 2))}\n",
    "def word_share(x):\n",
    "    word_1 = set(map(lambda word: word.lower().strip(), str(x['Question1']).split(\" \")))\n",
    "    word_2 = set(map(lambda word: word.lower().strip(), str(x['Question2']).split(\" \")))\n",
    "    return 1.0 * len(word_1 & word_2)/(len(word_1) + len(word_2))"
   ]
  },
  {
   "cell_type": "code",
   "execution_count": 5,
   "metadata": {},
   "outputs": [],
   "source": [
    "#Function to calculate TF-IDF word share between two questions\n",
    "def tfidf_word_share(x):    \n",
    "    count_vectorizer = CountVectorizer()\n",
    "    document = []\n",
    "    document.append(str(x['Question1']))\n",
    "    document.append(str(x['Question2']))\n",
    "    freq_term_matrix = count_vectorizer.fit_transform(document)\n",
    "    tfidf = TfidfTransformer(norm = \"l2\")\n",
    "    tfidf.fit(freq_term_matrix)\n",
    "    tf_idf_matrix_1 = tfidf.transform(freq_term_matrix)\n",
    "    arr = cosine_similarity(tf_idf_matrix_1[0:1], tf_idf_matrix_1)\n",
    "    return arr[0][1]"
   ]
  },
  {
   "cell_type": "code",
   "execution_count": 6,
   "metadata": {},
   "outputs": [],
   "source": [
    "\"\"\"\n",
    "Features Construction:\n",
    "1. length\n",
    "2. number of words\n",
    "3. word share \n",
    "4. tf-idf word share\n",
    "\"\"\" \n",
    "new_train_dataset = pd.DataFrame(dtype='float64')\n",
    "new_train_dataset['q1_length'] = train_dataset['Question1'].str.len()   # Length of the question 1\n",
    "new_train_dataset['q2_length'] = train_dataset['Question2'].str.len()   # Length of the question 2\n",
    "new_train_dataset['q1_words_num'] = train_dataset['Question1'].apply(lambda x: len(str(x).split(\" \"))) # Number of words in question 1\n",
    "new_train_dataset['q2_words_num'] = train_dataset['Question2'].apply(lambda y: len(str(y).split(\" \"))) # Number of words in question 2\n",
    "new_train_dataset['word_share'] = train_dataset.apply(word_share, axis=1) # Calculating word share between the two questions\n",
    "new_train_dataset['TFIDF_share'] = train_dataset.apply(tfidf_word_share, axis=1, raw=True) # Calculating the tf-tdf word share between the two questions"
   ]
  },
  {
   "cell_type": "code",
   "execution_count": 7,
   "metadata": {},
   "outputs": [],
   "source": [
    "\"\"\"\n",
    "Features Construction:\n",
    "1. length\n",
    "2. number of words\n",
    "3. word share \n",
    "4. tf-idf word share\n",
    "\"\"\" \n",
    "new_test_dataset = pd.DataFrame(dtype='float64')\n",
    "new_test_dataset['q1_length'] = test_dataset['Question1'].str.len()   # Length of the question 1\n",
    "new_test_dataset['q2_length'] = test_dataset['Question2'].str.len()   # Length of the question 2\n",
    "new_test_dataset['q1_words_num'] = test_dataset['Question1'].apply(lambda x: len(str(x).split(\" \"))) # Number of words in question 1\n",
    "new_test_dataset['q2_words_num'] = test_dataset['Question2'].apply(lambda y: len(str(y).split(\" \"))) # Number of words in question 2\n",
    "new_test_dataset['word_share'] = test_dataset.apply(word_share, axis=1) # Calculating word share between the two questions\n",
    "new_test_dataset['TFIDF_share'] = test_dataset.apply(tfidf_word_share, axis=1, raw=True) # Calculating the tf-tdf word share between the two questions"
   ]
  },
  {
   "cell_type": "code",
   "execution_count": 8,
   "metadata": {},
   "outputs": [
    {
     "data": {
      "text/html": [
       "<div>\n",
       "<style scoped>\n",
       "    .dataframe tbody tr th:only-of-type {\n",
       "        vertical-align: middle;\n",
       "    }\n",
       "\n",
       "    .dataframe tbody tr th {\n",
       "        vertical-align: top;\n",
       "    }\n",
       "\n",
       "    .dataframe thead th {\n",
       "        text-align: right;\n",
       "    }\n",
       "</style>\n",
       "<table border=\"1\" class=\"dataframe\">\n",
       "  <thead>\n",
       "    <tr style=\"text-align: right;\">\n",
       "      <th></th>\n",
       "      <th>q1_length</th>\n",
       "      <th>q2_length</th>\n",
       "      <th>q1_words_num</th>\n",
       "      <th>q2_words_num</th>\n",
       "      <th>word_share</th>\n",
       "      <th>TFIDF_share</th>\n",
       "    </tr>\n",
       "  </thead>\n",
       "  <tbody>\n",
       "    <tr>\n",
       "      <th>0</th>\n",
       "      <td>66</td>\n",
       "      <td>57</td>\n",
       "      <td>14</td>\n",
       "      <td>12</td>\n",
       "      <td>0.434783</td>\n",
       "      <td>0.920307</td>\n",
       "    </tr>\n",
       "    <tr>\n",
       "      <th>1</th>\n",
       "      <td>51</td>\n",
       "      <td>88</td>\n",
       "      <td>8</td>\n",
       "      <td>13</td>\n",
       "      <td>0.200000</td>\n",
       "      <td>0.424251</td>\n",
       "    </tr>\n",
       "    <tr>\n",
       "      <th>2</th>\n",
       "      <td>73</td>\n",
       "      <td>59</td>\n",
       "      <td>14</td>\n",
       "      <td>10</td>\n",
       "      <td>0.166667</td>\n",
       "      <td>0.225765</td>\n",
       "    </tr>\n",
       "    <tr>\n",
       "      <th>3</th>\n",
       "      <td>50</td>\n",
       "      <td>65</td>\n",
       "      <td>11</td>\n",
       "      <td>9</td>\n",
       "      <td>0.000000</td>\n",
       "      <td>0.000000</td>\n",
       "    </tr>\n",
       "    <tr>\n",
       "      <th>4</th>\n",
       "      <td>76</td>\n",
       "      <td>39</td>\n",
       "      <td>13</td>\n",
       "      <td>7</td>\n",
       "      <td>0.100000</td>\n",
       "      <td>0.272060</td>\n",
       "    </tr>\n",
       "  </tbody>\n",
       "</table>\n",
       "</div>"
      ],
      "text/plain": [
       "   q1_length  q2_length  q1_words_num  q2_words_num  word_share  TFIDF_share\n",
       "0         66         57            14            12    0.434783     0.920307\n",
       "1         51         88             8            13    0.200000     0.424251\n",
       "2         73         59            14            10    0.166667     0.225765\n",
       "3         50         65            11             9    0.000000     0.000000\n",
       "4         76         39            13             7    0.100000     0.272060"
      ]
     },
     "execution_count": 8,
     "metadata": {},
     "output_type": "execute_result"
    }
   ],
   "source": [
    "new_train_dataset.head()"
   ]
  },
  {
   "cell_type": "code",
   "execution_count": 9,
   "metadata": {},
   "outputs": [
    {
     "data": {
      "text/html": [
       "<div>\n",
       "<style scoped>\n",
       "    .dataframe tbody tr th:only-of-type {\n",
       "        vertical-align: middle;\n",
       "    }\n",
       "\n",
       "    .dataframe tbody tr th {\n",
       "        vertical-align: top;\n",
       "    }\n",
       "\n",
       "    .dataframe thead th {\n",
       "        text-align: right;\n",
       "    }\n",
       "</style>\n",
       "<table border=\"1\" class=\"dataframe\">\n",
       "  <thead>\n",
       "    <tr style=\"text-align: right;\">\n",
       "      <th></th>\n",
       "      <th>q1_length</th>\n",
       "      <th>q2_length</th>\n",
       "      <th>q1_words_num</th>\n",
       "      <th>q2_words_num</th>\n",
       "      <th>word_share</th>\n",
       "      <th>TFIDF_share</th>\n",
       "    </tr>\n",
       "  </thead>\n",
       "  <tbody>\n",
       "    <tr>\n",
       "      <th>0</th>\n",
       "      <td>100.0</td>\n",
       "      <td>77</td>\n",
       "      <td>17</td>\n",
       "      <td>18</td>\n",
       "      <td>0.176471</td>\n",
       "      <td>0.262366</td>\n",
       "    </tr>\n",
       "    <tr>\n",
       "      <th>1</th>\n",
       "      <td>39.0</td>\n",
       "      <td>48</td>\n",
       "      <td>7</td>\n",
       "      <td>8</td>\n",
       "      <td>0.133333</td>\n",
       "      <td>0.253209</td>\n",
       "    </tr>\n",
       "    <tr>\n",
       "      <th>2</th>\n",
       "      <td>46.0</td>\n",
       "      <td>37</td>\n",
       "      <td>10</td>\n",
       "      <td>8</td>\n",
       "      <td>0.333333</td>\n",
       "      <td>0.615219</td>\n",
       "    </tr>\n",
       "    <tr>\n",
       "      <th>3</th>\n",
       "      <td>113.0</td>\n",
       "      <td>121</td>\n",
       "      <td>18</td>\n",
       "      <td>18</td>\n",
       "      <td>0.444444</td>\n",
       "      <td>0.820021</td>\n",
       "    </tr>\n",
       "    <tr>\n",
       "      <th>4</th>\n",
       "      <td>148.0</td>\n",
       "      <td>48</td>\n",
       "      <td>29</td>\n",
       "      <td>9</td>\n",
       "      <td>0.081081</td>\n",
       "      <td>0.073565</td>\n",
       "    </tr>\n",
       "  </tbody>\n",
       "</table>\n",
       "</div>"
      ],
      "text/plain": [
       "   q1_length  q2_length  q1_words_num  q2_words_num  word_share  TFIDF_share\n",
       "0      100.0         77            17            18    0.176471     0.262366\n",
       "1       39.0         48             7             8    0.133333     0.253209\n",
       "2       46.0         37            10             8    0.333333     0.615219\n",
       "3      113.0        121            18            18    0.444444     0.820021\n",
       "4      148.0         48            29             9    0.081081     0.073565"
      ]
     },
     "execution_count": 9,
     "metadata": {},
     "output_type": "execute_result"
    }
   ],
   "source": [
    "new_test_dataset.head()"
   ]
  },
  {
   "cell_type": "code",
   "execution_count": 10,
   "metadata": {},
   "outputs": [
    {
     "data": {
      "text/plain": [
       "q1_length       0\n",
       "q2_length       0\n",
       "q1_words_num    0\n",
       "q2_words_num    0\n",
       "word_share      0\n",
       "TFIDF_share     0\n",
       "dtype: int64"
      ]
     },
     "execution_count": 10,
     "metadata": {},
     "output_type": "execute_result"
    }
   ],
   "source": [
    "# Check if there's NaN values in the data. If yes, replace them.\n",
    "np.sum(np.isnan(new_train_dataset))\n",
    "new_train_dataset.loc[:,['q2_length','q1_length','word_share','TFIDF_share']] = np.nan_to_num(\n",
    "        new_train_dataset.loc[:,['q2_length','q1_length' ,'word_share','TFIDF_share']])\n",
    "np.sum(np.isnan(new_train_dataset))"
   ]
  },
  {
   "cell_type": "code",
   "execution_count": 11,
   "metadata": {},
   "outputs": [
    {
     "data": {
      "text/plain": [
       "q1_length       0\n",
       "q2_length       0\n",
       "q1_words_num    0\n",
       "q2_words_num    0\n",
       "word_share      0\n",
       "TFIDF_share     0\n",
       "dtype: int64"
      ]
     },
     "execution_count": 11,
     "metadata": {},
     "output_type": "execute_result"
    }
   ],
   "source": [
    "# Check if there's NaN values in the data. If yes, replace them.\n",
    "np.sum(np.isnan(new_test_dataset))\n",
    "new_test_dataset.loc[:,['q2_length','q1_length','word_share','TFIDF_share']] = np.nan_to_num(\n",
    "        new_test_dataset.loc[:,['q2_length','q1_length' ,'word_share','TFIDF_share']])\n",
    "np.sum(np.isnan(new_test_dataset))"
   ]
  },
  {
   "cell_type": "code",
   "execution_count": 12,
   "metadata": {},
   "outputs": [
    {
     "data": {
      "text/plain": [
       "Text(0.5, 0, 'Word Share')"
      ]
     },
     "execution_count": 12,
     "metadata": {},
     "output_type": "execute_result"
    },
    {
     "data": {
      "image/png": "[encoded data removed]",
      "text/plain": [
       "<Figure size 1080x360 with 1 Axes>"
      ]
     },
     "metadata": {
      "needs_background": "light"
     },
     "output_type": "display_data"
    }
   ],
   "source": [
    "plt.figure(figsize=(15, 5))\n",
    "plot_word_share = new_train_dataset['word_share']\n",
    "plt.hist(plot_word_share[train_dataset['IsDuplicate'] == 1], bins = 50, alpha = 0.5, label='Duplicate')\n",
    "plt.hist(plot_word_share[train_dataset['IsDuplicate'] == 0], bins = 50, label = 'Not Duplicate')\n",
    "plt.legend()\n",
    "plt.title('Distribution over Word Share between Questions', fontsize = 15)\n",
    "plt.xlabel('Word Share', fontsize = 15)"
   ]
  },
  {
   "cell_type": "code",
   "execution_count": 13,
   "metadata": {},
   "outputs": [
    {
     "data": {
      "text/plain": [
       "Text(0.5, 0, 'TFIDF Share')"
      ]
     },
     "execution_count": 13,
     "metadata": {},
     "output_type": "execute_result"
    },
    {
     "data": {
      "image/png": "[encoded data removed]",
      "text/plain": [
       "<Figure size 1080x360 with 1 Axes>"
      ]
     },
     "metadata": {
      "needs_background": "light"
     },
     "output_type": "display_data"
    }
   ],
   "source": [
    "# Visualisation based on the feature : TF-IDF Word Share\n",
    "plt.figure(figsize=(15, 5))\n",
    "plot_tfidf_share = new_train_dataset['TFIDF_share']\n",
    "plt.hist(plot_tfidf_share[train_dataset['IsDuplicate'] == 1], bins = 70, alpha = 0.5, label='Duplicate')\n",
    "plt.hist(plot_tfidf_share[train_dataset['IsDuplicate'] == 0], bins = 70, label = 'Not Duplicate')\n",
    "plt.legend()\n",
    "plt.title('Distribution over TF-IDF Share between Questions', fontsize = 15)\n",
    "plt.xlabel('TFIDF Share', fontsize = 15)"
   ]
  },
  {
   "cell_type": "markdown",
   "metadata": {},
   "source": [
    "### Normalizing the dataset"
   ]
  },
  {
   "cell_type": "code",
   "execution_count": 14,
   "metadata": {},
   "outputs": [],
   "source": [
    "# Normalized feature values\n",
    "# Standardize features by removing the mean and scaling to unit variance\n",
    "scaler = StandardScaler()\n",
    "new_train_dataset_scaled = scaler.fit_transform(new_train_dataset)\n",
    "new_test_dataset_scaled = scaler.fit_transform(new_test_dataset)"
   ]
  },
  {
   "cell_type": "code",
   "execution_count": null,
   "metadata": {},
   "outputs": [],
   "source": []
  },
  {
   "cell_type": "markdown",
   "metadata": {},
   "source": [
    " ### Split the model into Train and Test Dataset "
   ]
  },
  {
   "cell_type": "code",
   "execution_count": 15,
   "metadata": {},
   "outputs": [],
   "source": [
    "label = train_dataset['IsDuplicate']   # Target Set\n",
    "X_train, X_test, y_train, y_test = train_test_split(new_train_dataset_scaled, label, test_size = 0.3, random_state = 0)"
   ]
  },
  {
   "cell_type": "code",
   "execution_count": 16,
   "metadata": {},
   "outputs": [],
   "source": [
    "label = label.to_numpy()"
   ]
  },
  {
   "cell_type": "markdown",
   "metadata": {},
   "source": [
    "### Method-1: Random Forest "
   ]
  },
  {
   "cell_type": "code",
   "execution_count": 17,
   "metadata": {},
   "outputs": [
    {
     "name": "stdout",
     "output_type": "stream",
     "text": [
      "Logistic Regression - Prediction: [0 0 1 ... 1 0 0]\n"
     ]
    }
   ],
   "source": [
    "# Model 1:  Random forest\n",
    "RFClas = RandomForestClassifier(n_estimators = 100)\n",
    "RFClas.fit(X_train, y_train)\n",
    "\n",
    "predictions_RF = RFClas.predict(X_test)\n",
    "\n",
    "print(\"Logistic Regression - Prediction:\", predictions_RF)"
   ]
  },
  {
   "cell_type": "code",
   "execution_count": 18,
   "metadata": {},
   "outputs": [
    {
     "name": "stdout",
     "output_type": "stream",
     "text": [
      "\t\tClassification Report\n",
      "              precision    recall  f1-score   support\n",
      "\n",
      "           0       0.77      0.77      0.77     35456\n",
      "           1       0.61      0.61      0.61     21145\n",
      "\n",
      "    accuracy                           0.71     56601\n",
      "   macro avg       0.69      0.69      0.69     56601\n",
      "weighted avg       0.71      0.71      0.71     56601\n",
      "\n",
      "\t\tClassification Report\n",
      "              precision    recall  f1-score   support\n",
      "\n",
      "           0       0.77      0.77      0.77     35674\n",
      "           1       0.61      0.61      0.61     20927\n",
      "\n",
      "    accuracy                           0.71     56601\n",
      "   macro avg       0.69      0.69      0.69     56601\n",
      "weighted avg       0.71      0.71      0.71     56601\n",
      "\n",
      "\t\tClassification Report\n",
      "              precision    recall  f1-score   support\n",
      "\n",
      "           0       0.76      0.77      0.77     35431\n",
      "           1       0.61      0.60      0.60     21169\n",
      "\n",
      "    accuracy                           0.71     56600\n",
      "   macro avg       0.69      0.69      0.69     56600\n",
      "weighted avg       0.71      0.71      0.71     56600\n",
      "\n",
      "\t\tClassification Report\n",
      "              precision    recall  f1-score   support\n",
      "\n",
      "           0       0.77      0.76      0.77     35586\n",
      "           1       0.60      0.61      0.61     21014\n",
      "\n",
      "    accuracy                           0.71     56600\n",
      "   macro avg       0.69      0.69      0.69     56600\n",
      "weighted avg       0.71      0.71      0.71     56600\n",
      "\n",
      "\t\tClassification Report\n",
      "              precision    recall  f1-score   support\n",
      "\n",
      "           0       0.77      0.77      0.77     35732\n",
      "           1       0.60      0.61      0.61     20868\n",
      "\n",
      "    accuracy                           0.71     56600\n",
      "   macro avg       0.69      0.69      0.69     56600\n",
      "weighted avg       0.71      0.71      0.71     56600\n",
      "\n"
     ]
    }
   ],
   "source": [
    "kfold = KFold(n_splits = 5)\n",
    "\n",
    "for train_index, test_index in kfold.split(new_train_dataset_scaled, label):\n",
    "    clf_cv = RFClas.fit(new_train_dataset_scaled[train_index], label[train_index])\n",
    "    yPred = clf_cv.predict(new_train_dataset_scaled[test_index])\n",
    "    yTrue = np.array(label)[test_index]\n",
    "    print(\"\\t\\tClassification Report\")\n",
    "    print(classification_report(yTrue, yPred))"
   ]
  },
  {
   "cell_type": "code",
   "execution_count": null,
   "metadata": {},
   "outputs": [],
   "source": []
  },
  {
   "cell_type": "markdown",
   "metadata": {},
   "source": [
    "### Method-2: Logistic Regression"
   ]
  },
  {
   "cell_type": "code",
   "execution_count": 19,
   "metadata": {},
   "outputs": [
    {
     "name": "stdout",
     "output_type": "stream",
     "text": [
      "Logistic Regression - Prediction: [0 0 0 ... 0 0 0]\n"
     ]
    }
   ],
   "source": [
    "# Model 2: Logistic Regression\n",
    "LRClas = LogisticRegression()\n",
    "LRClas.fit (X_train, y_train)\n",
    "prediction_LR = LRClas.predict(X_train)\n",
    "print(\"Logistic Regression - Prediction:\", prediction_LR)"
   ]
  },
  {
   "cell_type": "code",
   "execution_count": 20,
   "metadata": {},
   "outputs": [
    {
     "name": "stdout",
     "output_type": "stream",
     "text": [
      "\t\tClassification Report\n",
      "              precision    recall  f1-score   support\n",
      "\n",
      "           0       0.71      0.79      0.74     35456\n",
      "           1       0.56      0.46      0.50     21145\n",
      "\n",
      "    accuracy                           0.66     56601\n",
      "   macro avg       0.63      0.62      0.62     56601\n",
      "weighted avg       0.65      0.66      0.65     56601\n",
      "\n",
      "\t\tClassification Report\n",
      "              precision    recall  f1-score   support\n",
      "\n",
      "           0       0.71      0.78      0.75     35674\n",
      "           1       0.56      0.46      0.50     20927\n",
      "\n",
      "    accuracy                           0.66     56601\n",
      "   macro avg       0.63      0.62      0.62     56601\n",
      "weighted avg       0.65      0.66      0.66     56601\n",
      "\n",
      "\t\tClassification Report\n",
      "              precision    recall  f1-score   support\n",
      "\n",
      "           0       0.71      0.78      0.74     35431\n",
      "           1       0.55      0.45      0.50     21169\n",
      "\n",
      "    accuracy                           0.66     56600\n",
      "   macro avg       0.63      0.62      0.62     56600\n",
      "weighted avg       0.65      0.66      0.65     56600\n",
      "\n",
      "\t\tClassification Report\n",
      "              precision    recall  f1-score   support\n",
      "\n",
      "           0       0.71      0.78      0.74     35586\n",
      "           1       0.55      0.46      0.50     21014\n",
      "\n",
      "    accuracy                           0.66     56600\n",
      "   macro avg       0.63      0.62      0.62     56600\n",
      "weighted avg       0.65      0.66      0.65     56600\n",
      "\n",
      "\t\tClassification Report\n",
      "              precision    recall  f1-score   support\n",
      "\n",
      "           0       0.71      0.79      0.75     35732\n",
      "           1       0.55      0.45      0.50     20868\n",
      "\n",
      "    accuracy                           0.66     56600\n",
      "   macro avg       0.63      0.62      0.62     56600\n",
      "weighted avg       0.65      0.66      0.65     56600\n",
      "\n"
     ]
    }
   ],
   "source": [
    "kfold = KFold(n_splits = 5)\n",
    "\n",
    "for train_index, test_index in kfold.split(new_train_dataset_scaled, label):\n",
    "    clf_cv = LRClas.fit(new_train_dataset_scaled[train_index], label[train_index])\n",
    "    yPred = clf_cv.predict(new_train_dataset_scaled[test_index])\n",
    "    yTrue = np.array(label)[test_index]\n",
    "    print(\"\\t\\tClassification Report\")\n",
    "    print(classification_report(yTrue, yPred))"
   ]
  },
  {
   "cell_type": "code",
   "execution_count": null,
   "metadata": {},
   "outputs": [],
   "source": []
  },
  {
   "cell_type": "markdown",
   "metadata": {},
   "source": [
    "### Saving Test set predictions"
   ]
  },
  {
   "cell_type": "code",
   "execution_count": 21,
   "metadata": {},
   "outputs": [],
   "source": [
    "predictions_RF_test = RFClas.predict(new_test_dataset_scaled)"
   ]
  },
  {
   "cell_type": "code",
   "execution_count": 22,
   "metadata": {},
   "outputs": [
    {
     "data": {
      "text/plain": [
       "array([0, 1, 0, ..., 1, 0, 1], dtype=int64)"
      ]
     },
     "execution_count": 22,
     "metadata": {},
     "output_type": "execute_result"
    }
   ],
   "source": [
    "predictions_RF_test"
   ]
  },
  {
   "cell_type": "code",
   "execution_count": 23,
   "metadata": {},
   "outputs": [],
   "source": [
    "id_n = test_dataset['Id']\n",
    "\n",
    "prediction_table = pd.DataFrame(data = id_n, columns = ['Id'])\n",
    "prediction_table['Expected'] = predictions_RF_test"
   ]
  },
  {
   "cell_type": "code",
   "execution_count": 24,
   "metadata": {},
   "outputs": [],
   "source": [
    "prediction_table.to_csv('duplicate_predictions.csv', sep = ',', index = False)"
   ]
  },
  {
   "cell_type": "code",
   "execution_count": null,
   "metadata": {},
   "outputs": [],
   "source": []
  },
  {
   "cell_type": "code",
   "execution_count": null,
   "metadata": {},
   "outputs": [],
   "source": []
  }
 ],
 "metadata": {
  "kernelspec": {
   "display_name": "Python 3",
   "language": "python",
   "name": "python3"
  },
  "language_info": {
   "codemirror_mode": {
    "name": "ipython",
    "version": 3
   },
   "file_extension": ".py",
   "mimetype": "text/x-python",
   "name": "python",
   "nbconvert_exporter": "python",
   "pygments_lexer": "ipython3",
   "version": "3.8.3"
  }
 },
 "nbformat": 4,
 "nbformat_minor": 4
}
